{
 "cells": [
  {
   "cell_type": "code",
   "execution_count": 3,
   "metadata": {
    "collapsed": false
   },
   "outputs": [],
   "source": [
    "import smtplib\n",
    "from email.mime.text import MIMEText\n",
    "import os"
   ]
  },
  {
   "cell_type": "code",
   "execution_count": null,
   "metadata": {
    "collapsed": true
   },
   "outputs": [],
   "source": [
    "f = open(\"email_addresses.txt\", \"r\")\n",
    "email_list = []\n",
    "for address in f:\n",
    "    email_list.append(address)"
   ]
  },
  {
   "cell_type": "code",
   "execution_count": 5,
   "metadata": {
    "collapsed": false
   },
   "outputs": [],
   "source": [
    "def send_email(to, content):\n",
    "    msg['From'] = 'mike@desmoinescapital.com'\n",
    "    msg['To'] = to\n",
    "    msg['Subject'] = \"Investment advice\"\n",
    "    msg.attach(MIMEText(content), 'html')\n",
    "    mailServer = smtplib.SMTP(\"mail.homework.431.com\", 587)\n",
    "    mailServer.ehlo()\n",
    "    mailServer.starttls()\n",
    "    mailServer.ehlo()\n",
    "    mailServer.login('bgeils@hoemwork.431.com',os.environ['PASSWORD'])\n",
    "    return mailServer.sendmail(msg['From'], to, content)"
   ]
  },
  {
   "cell_type": "code",
   "execution_count": 6,
   "metadata": {
    "collapsed": true
   },
   "outputs": [
    {
     "ename": "NameError",
     "evalue": "name 'email_list' is not defined",
     "output_type": "error",
     "traceback": [
      "\u001b[0;31m---------------------------------------------------------------------------\u001b[0m",
      "\u001b[0;31mNameError\u001b[0m                                 Traceback (most recent call last)",
      "\u001b[0;32m<ipython-input-6-9501073d75e8>\u001b[0m in \u001b[0;36m<module>\u001b[0;34m()\u001b[0m\n\u001b[0;32m----> 1\u001b[0;31m \u001b[0mLIST_A\u001b[0m \u001b[0;34m=\u001b[0m \u001b[0memail_list\u001b[0m\u001b[0;34m[\u001b[0m\u001b[0;34m:\u001b[0m\u001b[0mlen\u001b[0m\u001b[0;34m(\u001b[0m\u001b[0memail_list\u001b[0m\u001b[0;34m)\u001b[0m\u001b[0;34m/\u001b[0m\u001b[0;36m2\u001b[0m\u001b[0;34m]\u001b[0m\u001b[0;34m\u001b[0m\u001b[0m\n\u001b[0m\u001b[1;32m      2\u001b[0m \u001b[0mLIST_B\u001b[0m \u001b[0;34m=\u001b[0m \u001b[0memail_list\u001b[0m\u001b[0;34m[\u001b[0m\u001b[0mlen\u001b[0m\u001b[0;34m(\u001b[0m\u001b[0memail_list\u001b[0m\u001b[0;34m)\u001b[0m\u001b[0;34m/\u001b[0m\u001b[0;36m2\u001b[0m\u001b[0;34m:\u001b[0m\u001b[0;34m]\u001b[0m\u001b[0;34m\u001b[0m\u001b[0m\n",
      "\u001b[0;31mNameError\u001b[0m: name 'email_list' is not defined"
     ]
    }
   ],
   "source": [
    "LIST_A = email_list[:len(email_list)/2]\n",
    "LIST_B = email_list[len(email_list)/2:]"
   ]
  },
  {
   "cell_type": "code",
   "execution_count": 7,
   "metadata": {
    "collapsed": true
   },
   "outputs": [],
   "source": [
    "content_A = '''\n",
    "We predict the market will rise tomorrow! Let us invest for you today\n",
    "by putting $1k into a starter account. 't miss this opportunity.\n",
    "\n",
    "Make an account <a href=\"http://www.homework.431.com/exploit.php\">\n",
    "here</a>\n",
    "'''\n",
    "content_B = '''\n",
    "We predict the market will fall tomorrow! Let us invest for you today\n",
    "by putting $1k into a starter account. Don't miss this opportunity.\n",
    "\n",
    "Make an account <a href=\"http://www.homework.431.com/exploit.php\">\n",
    "here</a>\n",
    "'''\n"
   ]
  },
  {
   "cell_type": "code",
   "execution_count": null,
   "metadata": {
    "collapsed": true
   },
   "outputs": [],
   "source": [
    "for person in LIST_A:\n",
    "    send_email(person, content_A)\n",
    "for person in LIST_B:\n",
    "    send_email(person, content_B)"
   ]
  }
 ],
 "metadata": {
  "kernelspec": {
   "display_name": "Python 2",
   "language": "python",
   "name": "python2"
  },
  "language_info": {
   "codemirror_mode": {
    "name": "ipython",
    "version": 2
   },
   "file_extension": ".py",
   "mimetype": "text/x-python",
   "name": "python",
   "nbconvert_exporter": "python",
   "pygments_lexer": "ipython2",
   "version": "2.7.10"
  }
 },
 "nbformat": 4,
 "nbformat_minor": 2
}
